{
 "cells": [
  {
   "cell_type": "code",
   "execution_count": 1,
   "id": "15142c5b",
   "metadata": {},
   "outputs": [],
   "source": [
    "import pyodbc\n"
   ]
  },
  {
   "cell_type": "code",
   "execution_count": 2,
   "id": "3830eac0",
   "metadata": {},
   "outputs": [],
   "source": [
    "# Conectar ao SQL Server\n",
    "conn = pyodbc.connect(\n",
    "    \"DRIVER={SQL Server};\"\n",
    "    \"SERVER=localhost\\SQLEXPRESS;\"\n",
    "    \"DATABASE=Cabeleireiro2;\"\n",
    "    \"Trusted_Connection=yes;\"\n",
    ")\n",
    "cursor = conn.cursor()\n"
   ]
  },
  {
   "cell_type": "code",
   "execution_count": 3,
   "id": "31a49964",
   "metadata": {},
   "outputs": [
    {
     "name": "stdout",
     "output_type": "stream",
     "text": [
      "Nome (opcional): luiz\n",
      "Idade: 26\n",
      "Bairro: vila alpina\n",
      "Dia da semana que corta: quarta\n",
      "Nome do corte: \n",
      "Nome do cabeleireiro: lucas\n",
      "Faz a barba? (S/N): n\n",
      "Faz sobrancelha? (S/N): s\n",
      "Quantas vezes corta no mês? 2\n",
      "Algo a acrescentar? n\n"
     ]
    }
   ],
   "source": [
    "# Coletar dados do usuário\n",
    "nome = input('Nome (opcional): ').strip() or None\n",
    "idade = int(input('Idade: '))\n",
    "bairro = input('Bairro: ').strip()\n",
    "dia_da_semana = input('Dia da semana que corta: ').strip()\n",
    "corte = input('Nome do corte: ').strip()\n",
    "cabeleireiro = input('Nome do cabeleireiro: ').strip()\n",
    "faz_barba = input('Faz a barba? (S/N): ').strip().upper() == 'S'\n",
    "faz_sobrancelha = input('Faz sobrancelha? (S/N): ').strip().upper() == 'S'\n",
    "quantas_vezes_mes = int(input('Quantas vezes corta no mês? '))\n",
    "sugestao = input('Algo a acrescentar? ').strip() or None\n",
    "\n"
   ]
  },
  {
   "cell_type": "code",
   "execution_count": 4,
   "id": "aabc4b87",
   "metadata": {},
   "outputs": [],
   "source": [
    "# Inserir o corte na tabela de Cortes (se ainda não existir)\n",
    "cursor.execute(\"IF NOT EXISTS (SELECT 1 FROM Cortes WHERE NomeCorte = ?) INSERT INTO Cortes (NomeCorte) VALUES (?)\", (corte, corte))\n",
    "conn.commit()\n"
   ]
  },
  {
   "cell_type": "code",
   "execution_count": 5,
   "id": "cba4da96",
   "metadata": {},
   "outputs": [],
   "source": [
    "# Obter o ID do corte inserido\n",
    "cursor.execute(\"SELECT CorteID FROM Cortes WHERE NomeCorte = ?\", (corte,))\n",
    "corte_id = cursor.fetchone()[0]\n"
   ]
  },
  {
   "cell_type": "code",
   "execution_count": 6,
   "id": "f57917ef",
   "metadata": {},
   "outputs": [],
   "source": [
    "# Inserir o cabeleireiro na tabela de Cabeleireiros (se ainda não existir)\n",
    "cursor.execute(\"IF NOT EXISTS (SELECT 1 FROM Cabeleireiros WHERE NomeCabeleireiro = ?) INSERT INTO Cabeleireiros (NomeCabeleireiro) VALUES (?)\", (cabeleireiro, cabeleireiro))\n",
    "conn.commit()\n"
   ]
  },
  {
   "cell_type": "code",
   "execution_count": 7,
   "id": "a42c1230",
   "metadata": {},
   "outputs": [],
   "source": [
    "# Obter o ID do cabeleireiro inserido\n",
    "cursor.execute(\"SELECT CabeleireiroID FROM Cabeleireiros WHERE NomeCabeleireiro = ?\", (cabeleireiro,))\n",
    "cabeleireiro_id = cursor.fetchone()[0]\n",
    "\n"
   ]
  },
  {
   "cell_type": "code",
   "execution_count": 8,
   "id": "a4f4814a",
   "metadata": {},
   "outputs": [],
   "source": [
    "# Inserir o cliente na tabela de Clientes\n",
    "cursor.execute(\"\"\"\n",
    "    INSERT INTO Clientes (Nome, Idade, Bairro, DiaDaSemana, QuantasVezesMes, Sugestao)\n",
    "    VALUES (?, ?, ?, ?, ?, ?)\n",
    "\"\"\", (nome, idade, bairro, dia_da_semana, quantas_vezes_mes, sugestao))\n",
    "conn.commit()\n",
    "\n"
   ]
  },
  {
   "cell_type": "code",
   "execution_count": 9,
   "id": "aaa1917e",
   "metadata": {},
   "outputs": [],
   "source": [
    "# Obter o ID do cliente inserido\n",
    "cursor.execute(\"SELECT ClienteID FROM Clientes WHERE Nome = ? AND Bairro = ?\", (nome, bairro))\n",
    "cliente_id = cursor.fetchone()[0]\n",
    "\n"
   ]
  },
  {
   "cell_type": "code",
   "execution_count": 10,
   "id": "d54622da",
   "metadata": {},
   "outputs": [
    {
     "name": "stdout",
     "output_type": "stream",
     "text": [
      "Dados inseridos com sucesso!\n"
     ]
    }
   ],
   "source": [
    "# Inserir o agendamento na tabela de Agendamentos\n",
    "cursor.execute(\"\"\"\n",
    "    INSERT INTO Agendamentos (ClienteID, CorteID, CabeleireiroID, FazBarba, FazSobrancelha)\n",
    "    VALUES (?, ?, ?, ?, ?)\n",
    "\"\"\", (cliente_id, corte_id, cabeleireiro_id, faz_barba, faz_sobrancelha))\n",
    "conn.commit()\n",
    "print(\"Dados inseridos com sucesso!\")\n",
    "\n",
    "# Fechar a conexão\n",
    "cursor.close()\n",
    "conn.close()"
   ]
  },
  {
   "cell_type": "code",
   "execution_count": 2,
   "id": "b7a0a113",
   "metadata": {},
   "outputs": [
    {
     "ename": "ModuleNotFoundError",
     "evalue": "No module named 'Flask'",
     "output_type": "error",
     "traceback": [
      "\u001b[1;31m---------------------------------------------------------------------------\u001b[0m",
      "\u001b[1;31mModuleNotFoundError\u001b[0m                       Traceback (most recent call last)",
      "Cell \u001b[1;32mIn[2], line 1\u001b[0m\n\u001b[1;32m----> 1\u001b[0m \u001b[38;5;28;01mimport\u001b[39;00m \u001b[38;5;21;01mFlask\u001b[39;00m\n\u001b[0;32m      2\u001b[0m \u001b[38;5;28;01mfrom\u001b[39;00m \u001b[38;5;21;01mflask_sqlalchemy\u001b[39;00m \u001b[38;5;28;01mimport\u001b[39;00m SQLAlchemy\n\u001b[0;32m      4\u001b[0m app \u001b[38;5;241m=\u001b[39m Flask(\u001b[38;5;18m__name__\u001b[39m)\n",
      "\u001b[1;31mModuleNotFoundError\u001b[0m: No module named 'Flask'"
     ]
    }
   ],
   "source": [
    "import Flask\n",
    "from flask_sqlalchemy import SQLAlchemy\n",
    "\n",
    "app = Flask(__name__)\n",
    "\n",
    "# Substitua os valores de luizh, password, host e database com os seus próprios.\n",
    "app.config['SQLALCHEMY_DATABASE_URI'] = 'mssql+pyodbc://DIDICO\\\\luizh:@localhost\\\\SQLEXPRESS/Cabeleireiro2?driver=ODBC+Driver+17+for+SQL+Server'\n",
    "app.config['SQLALCHEMY_TRACK_MODIFICATIONS'] = False  # Desabilita o aviso de modificações\n",
    "\n",
    "db = SQLAlchemy(app)\n",
    "\n",
    "# Modelo (tabela)\n",
    "class Cabeleireiro(db.Model):\n",
    "    id = db.Column(db.Integer, primary_key=True)\n",
    "    nome = db.Column(db.String(80), nullable=False)\n",
    "    idade = db.Column(db.Integer, nullable=False)\n",
    "\n",
    "    def __repr__(self):\n",
    "        return f'<Cabeleireiro {self.nome}>'\n",
    "\n",
    "@app.route('/')\n",
    "def index():\n",
    "    # Criando as tabelas (se ainda não existirem)\n",
    "    db.create_all()\n",
    "\n",
    "    # Inserir dados de exemplo\n",
    "    if not Cabeleireiro.query.first():\n",
    "        novo_cabeleireiro = Cabeleireiro(nome='João', idade=25)\n",
    "        db.session.add(novo_cabeleireiro)\n",
    "        db.session.commit()\n",
    "\n",
    "    # Exibir todos os cabeleireiros cadastrados\n",
    "    cabeleireiros = Cabeleireiro.query.all()\n",
    "    return '<br>'.join([f'{c.nome}, {c.idade} anos' for c in cabeleireiros])\n",
    "\n",
    "if __name__ == '__main__':\n",
    "    app.run(debug=True)"
   ]
  }
 ],
 "metadata": {
  "kernelspec": {
   "display_name": "Python 3 (ipykernel)",
   "language": "python",
   "name": "python3"
  },
  "language_info": {
   "codemirror_mode": {
    "name": "ipython",
    "version": 3
   },
   "file_extension": ".py",
   "mimetype": "text/x-python",
   "name": "python",
   "nbconvert_exporter": "python",
   "pygments_lexer": "ipython3",
   "version": "3.11.3"
  }
 },
 "nbformat": 4,
 "nbformat_minor": 5
}
